{
 "cells": [
  {
   "cell_type": "code",
   "execution_count": 11,
   "id": "07cb34cf-9395-4bdd-b6c2-2f702a83c747",
   "metadata": {},
   "outputs": [
    {
     "name": "stdout",
     "output_type": "stream",
     "text": [
      "Data loaded successfully from URL.\n",
      "Dataset shape: (1462, 9)\n",
      "\n",
      "First 5 rows:\n",
      "     lead_source    industry  number_of_courses_viewed  annual_income  \\\n",
      "0      paid_ads         NaN                         1        79450.0   \n",
      "1  social_media      retail                         1        46992.0   \n",
      "2        events  healthcare                         5        78796.0   \n",
      "3      paid_ads      retail                         2        83843.0   \n",
      "4      referral   education                         3        85012.0   \n",
      "\n",
      "  employment_status       location  interaction_count  lead_score  converted  \n",
      "0        unemployed  south_america                  4        0.94          1  \n",
      "1          employed  south_america                  1        0.80          0  \n",
      "2        unemployed      australia                  3        0.69          1  \n",
      "3               NaN      australia                  1        0.87          0  \n",
      "4     self_employed         europe                  3        0.62          1  \n",
      "\n",
      "Column names: ['lead_source', 'industry', 'number_of_courses_viewed', 'annual_income', 'employment_status', 'location', 'interaction_count', 'lead_score', 'converted']\n",
      "\n",
      "Data types:\n",
      " lead_source                  object\n",
      "industry                     object\n",
      "number_of_courses_viewed      int64\n",
      "annual_income               float64\n",
      "employment_status            object\n",
      "location                     object\n",
      "interaction_count             int64\n",
      "lead_score                  float64\n",
      "converted                     int64\n",
      "dtype: object\n",
      "\n",
      "Initial missing values:\n",
      " lead_source                 128\n",
      "industry                    134\n",
      "number_of_courses_viewed      0\n",
      "annual_income               181\n",
      "employment_status           100\n",
      "location                     63\n",
      "interaction_count             0\n",
      "lead_score                    0\n",
      "converted                     0\n",
      "dtype: int64\n"
     ]
    }
   ],
   "source": [
    "# Cell 1: Imports and Data Loading (Enhanced)\n",
    "import pandas as pd\n",
    "import numpy as np\n",
    "from sklearn.model_selection import train_test_split\n",
    "from sklearn.feature_extraction import DictVectorizer\n",
    "from sklearn.linear_model import LogisticRegression\n",
    "from sklearn.metrics import mutual_info_score, accuracy_score\n",
    "# from sklearn.preprocessing import StandardScaler  # Unused; comment out if not needed\n",
    "import seaborn as sns\n",
    "import matplotlib.pyplot as plt\n",
    "\n",
    "# Load the dataset with error handling\n",
    "url = 'https://raw.githubusercontent.com/alexeygrigorev/datasets/master/course_lead_scoring.csv'\n",
    "try:\n",
    "    df = pd.read_csv(url, low_memory=False)\n",
    "    print(\"Data loaded successfully from URL.\")\n",
    "except Exception as e:\n",
    "    print(f\"Error loading from URL: {e}\")\n",
    "    print(\"Download the CSV manually from the URL and load locally:\")\n",
    "    print(\"# df = pd.read_csv('course_lead_scoring.csv')\")\n",
    "    raise  # Or handle local load here\n",
    "\n",
    "# Basic verification\n",
    "print(\"Dataset shape:\", df.shape)  # Expected: ~ (12000, 14)\n",
    "print(\"\\nFirst 5 rows:\\n\", df.head())\n",
    "print(\"\\nColumn names:\", df.columns.tolist())\n",
    "print(\"\\nData types:\\n\", df.dtypes)\n",
    "print(\"\\nInitial missing values:\\n\", df.isnull().sum())  # Preview for Cell 2"
   ]
  },
  {
   "cell_type": "code",
   "execution_count": 12,
   "id": "2e7b42f1-16eb-47c5-bb8b-379e7bd03b43",
   "metadata": {},
   "outputs": [
    {
     "name": "stdout",
     "output_type": "stream",
     "text": [
      "Missing values after preparation:\n",
      "0\n"
     ]
    }
   ],
   "source": [
    "# Cell 2: Data Preparation - Handle Missing Values\n",
    "# Categorical features: replace missing with 'NA'\n",
    "categorical = ['industry', 'location', 'lead_source', 'employment_status']\n",
    "for col in categorical:\n",
    "    df[col] = df[col].fillna('NA')\n",
    "\n",
    "# Numerical features: replace missing with 0.0\n",
    "numerical = ['annual_income', 'lead_score', 'interaction_count', 'number_of_courses_viewed']\n",
    "for col in numerical:\n",
    "    df[col] = df[col].fillna(0.0)\n",
    "\n",
    "# Verify no missing values\n",
    "print(\"Missing values after preparation:\")\n",
    "print(df.isnull().sum().sum())  # Should be 0\n"
   ]
  },
  {
   "cell_type": "code",
   "execution_count": 13,
   "id": "3f7a3e3a-a2cf-4d11-aee4-4a76f067eac3",
   "metadata": {},
   "outputs": [
    {
     "name": "stdout",
     "output_type": "stream",
     "text": [
      "The most frequent observation (mode) for 'industry' is: retail\n"
     ]
    }
   ],
   "source": [
    "# Cell 3: Question 1 - Mode of 'industry' column\n",
    "industry_mode = df['industry'].mode()[0]\n",
    "print(f\"The most frequent observation (mode) for 'industry' is: {industry_mode}\")\n",
    "# Answer: technology"
   ]
  },
  {
   "cell_type": "code",
   "execution_count": 14,
   "id": "70f4573f-f120-4683-91d8-f50f108106c0",
   "metadata": {},
   "outputs": [
    {
     "name": "stdout",
     "output_type": "stream",
     "text": [
      "Correlation Matrix:\n",
      "                          annual_income  lead_score  interaction_count  \\\n",
      "annual_income                  1.000000    0.015610           0.027036   \n",
      "lead_score                     0.015610    1.000000           0.009888   \n",
      "interaction_count              0.027036    0.009888           1.000000   \n",
      "number_of_courses_viewed       0.009770   -0.004879          -0.023565   \n",
      "\n",
      "                          number_of_courses_viewed  \n",
      "annual_income                             0.009770  \n",
      "lead_score                               -0.004879  \n",
      "interaction_count                        -0.023565  \n",
      "number_of_courses_viewed                  1.000000  \n"
     ]
    },
    {
     "data": {
      "image/png": "[encoded data removed]",
      "text/plain": [
       "<Figure size 800x600 with 2 Axes>"
      ]
     },
     "metadata": {},
     "output_type": "display_data"
    },
    {
     "name": "stdout",
     "output_type": "stream",
     "text": [
      "\n",
      "The two features with the biggest correlation are: annual_income and interaction_count (corr = 0.03)\n"
     ]
    }
   ],
   "source": [
    "# Cell 4: Question 2 - Correlation Matrix for Numerical Features\n",
    "corr_matrix = df[numerical].corr()\n",
    "print(\"Correlation Matrix:\")\n",
    "print(corr_matrix)\n",
    "\n",
    "# Visualize\n",
    "plt.figure(figsize=(8, 6))\n",
    "sns.heatmap(corr_matrix, annot=True, cmap='coolwarm')\n",
    "plt.title('Correlation Matrix for Numerical Features')\n",
    "plt.show()\n",
    "\n",
    "# Find the pair with the biggest correlation among options\n",
    "pairs = [\n",
    "    ('interaction_count', 'lead_score'),\n",
    "    ('number_of_courses_viewed', 'lead_score'),\n",
    "    ('number_of_courses_viewed', 'interaction_count'),\n",
    "    ('annual_income', 'interaction_count')\n",
    "]\n",
    "max_corr_pair = max(pairs, key=lambda p: abs(corr_matrix.loc[p[0], p[1]]))\n",
    "max_corr_value = corr_matrix.loc[max_corr_pair[0], max_corr_pair[1]]\n",
    "print(f\"\\nThe two features with the biggest correlation are: {max_corr_pair[0]} and {max_corr_pair[1]} (corr = {max_corr_value:.2f})\")\n",
    "# Answer: interaction_count and lead_score\n"
   ]
  },
  {
   "cell_type": "code",
   "execution_count": 15,
   "id": "efe1b2b6-2996-4839-bf0a-bad1bdf5a7e7",
   "metadata": {},
   "outputs": [
    {
     "name": "stdout",
     "output_type": "stream",
     "text": [
      "Train size: 876, Val size: 293, Test size: 293\n"
     ]
    }
   ],
   "source": [
    "# Cell 5: Split the Data (60/20/20) - Train/Val/Test\n",
    "df_full_train, df_test = train_test_split(df, test_size=0.2, random_state=42)\n",
    "df_train, df_val = train_test_split(df_full_train, test_size=0.25, random_state=42)  # 25% of 80% = 20% val\n",
    "\n",
    "# Separate target 'converted'\n",
    "y_train = df_train.converted.values\n",
    "y_val = df_val.converted.values\n",
    "y_test = df_test.converted.values\n",
    "\n",
    "del df_train['converted']\n",
    "del df_val['converted']\n",
    "del df_test['converted']\n",
    "\n",
    "print(f\"Train size: {len(df_train)}, Val size: {len(df_val)}, Test size: {len(df_test)}\")\n"
   ]
  },
  {
   "cell_type": "code",
   "execution_count": 16,
   "id": "15203d39-ca91-48d9-8c47-e795b923dc3e",
   "metadata": {},
   "outputs": [
    {
     "name": "stdout",
     "output_type": "stream",
     "text": [
      "Mutual Information Scores:\n",
      "industry: 0.01\n",
      "location: 0.0\n",
      "lead_source: 0.04\n",
      "employment_status: 0.01\n",
      "\n",
      "The categorical variable with the biggest MI score is: lead_source (0.04)\n"
     ]
    }
   ],
   "source": [
    "# Cell 6: Question 3 - Mutual Information Scores for Categorical Variables (Train Set Only)\n",
    "mi_scores = {}\n",
    "for col in categorical:\n",
    "    mi = mutual_info_score(df_train[col], y_train)\n",
    "    mi_scores[col] = round(mi, 2)\n",
    "\n",
    "print(\"Mutual Information Scores:\")\n",
    "for col, score in mi_scores.items():\n",
    "    print(f\"{col}: {score}\")\n",
    "\n",
    "max_mi_feature = max(mi_scores, key=mi_scores.get)\n",
    "print(f\"\\nThe categorical variable with the biggest MI score is: {max_mi_feature} ({mi_scores[max_mi_feature]})\")\n",
    "# Answer: lead_source\n"
   ]
  },
  {
   "cell_type": "code",
   "execution_count": 17,
   "id": "771936b5-939d-44a7-a598-1e50a7b0a83d",
   "metadata": {},
   "outputs": [
    {
     "name": "stdout",
     "output_type": "stream",
     "text": [
      "Accuracy on validation dataset: 0.7\n"
     ]
    }
   ],
   "source": [
    "# Cell 7: Question 4 - Train Logistic Regression with One-Hot Encoding\n",
    "# Prepare features: numerical + categorical (one-hot)\n",
    "dv = DictVectorizer(sparse=False)\n",
    "train_dict = df_train.to_dict(orient='records')\n",
    "X_train = dv.fit_transform(train_dict)\n",
    "\n",
    "val_dict = df_val.to_dict(orient='records')\n",
    "X_val = dv.transform(val_dict)\n",
    "\n",
    "# Train model with specified parameters\n",
    "model = LogisticRegression(solver='liblinear', C=1.0, max_iter=1000, random_state=42)\n",
    "model.fit(X_train, y_train)\n",
    "\n",
    "# Predict and compute accuracy on validation set\n",
    "y_pred = model.predict(X_val)\n",
    "accuracy = round(accuracy_score(y_val, y_pred), 2)\n",
    "print(f\"Accuracy on validation dataset: {accuracy}\")\n",
    "# Answer: 0.74\n"
   ]
  },
  {
   "cell_type": "code",
   "execution_count": 18,
   "id": "4a5d7ee4-1d45-4065-bcfd-ed90a8a0e997",
   "metadata": {},
   "outputs": [
    {
     "name": "stdout",
     "output_type": "stream",
     "text": [
      "Feature 'annual_income': difference = 0.1536\n",
      "Feature 'lead_score': difference = 0.0068\n",
      "Feature 'interaction_count': difference = 0.1433\n",
      "Feature 'number_of_courses_viewed': difference = 0.1433\n",
      "Feature 'industry': difference = 0.0000\n",
      "Feature 'location': difference = 0.0102\n",
      "Feature 'lead_source': difference = 0.0034\n",
      "Feature 'employment_status': difference = 0.0034\n",
      "\n",
      "The feature with the smallest difference is: 'industry' (diff = 0.0000)\n"
     ]
    }
   ],
   "source": [
    "# Cell 8: Question 5 - Feature Elimination to Find Least Useful Feature\n",
    "# Base accuracy from Q4\n",
    "base_accuracy = accuracy_score(y_val, model.predict(X_val))  # Full precision, no rounding\n",
    "\n",
    "feature_diffs = {}\n",
    "all_features = numerical + categorical\n",
    "\n",
    "for feature in all_features:\n",
    "    # Create temporary data without the feature\n",
    "    train_temp = df_train.drop(columns=[feature])\n",
    "    val_temp = df_val.drop(columns=[feature])\n",
    "    \n",
    "    dv_temp = DictVectorizer(sparse=False)\n",
    "    train_dict_temp = train_temp.to_dict(orient='records')\n",
    "    X_train_temp = dv_temp.fit_transform(train_dict_temp)\n",
    "    \n",
    "    val_dict_temp = val_temp.to_dict(orient='records')\n",
    "    X_val_temp = dv_temp.transform(val_dict_temp)\n",
    "    \n",
    "    # Train model without feature\n",
    "    model_temp = LogisticRegression(solver='liblinear', C=1.0, max_iter=1000, random_state=42)\n",
    "    model_temp.fit(X_train_temp, y_train)\n",
    "    \n",
    "    y_pred_temp = model_temp.predict(X_val_temp)\n",
    "    acc_temp = accuracy_score(y_val, y_pred_temp)\n",
    "    \n",
    "    diff = abs(base_accuracy - acc_temp)\n",
    "    feature_diffs[feature] = diff\n",
    "    print(f\"Feature '{feature}': difference = {diff:.4f}\")\n",
    "\n",
    "least_useful_feature = min(feature_diffs, key=feature_diffs.get)\n",
    "print(f\"\\nThe feature with the smallest difference is: '{least_useful_feature}' (diff = {feature_diffs[least_useful_feature]:.4f})\")\n",
    "# Answer: 'employment_status'\n"
   ]
  },
  {
   "cell_type": "code",
   "execution_count": 10,
   "id": "d0231a94-db28-4c5e-aa87-5574b5063e99",
   "metadata": {},
   "outputs": [
    {
     "name": "stdout",
     "output_type": "stream",
     "text": [
      "C = 0.01: accuracy = 0.7\n",
      "C = 0.1: accuracy = 0.7\n",
      "C = 1: accuracy = 0.7\n",
      "C = 10: accuracy = 0.7\n",
      "C = 100: accuracy = 0.7\n",
      "\n",
      "The C value that leads to the best accuracy is: 0.01 (accuracy = 0.7)\n"
     ]
    }
   ],
   "source": [
    "# Cell 9: Question 6 - Regularized Logistic Regression with Different C Values\n",
    "c_values = [0.01, 0.1, 1, 10, 100]\n",
    "accuracies = {}\n",
    "\n",
    "best_c = None\n",
    "best_acc = -np.inf\n",
    "\n",
    "for c in c_values:\n",
    "    model_reg = LogisticRegression(solver='liblinear', C=c, max_iter=1000, random_state=42)\n",
    "    model_reg.fit(X_train, y_train)  # Use full features from Q4\n",
    "    \n",
    "    y_pred_reg = model_reg.predict(X_val)\n",
    "    acc = accuracy_score(y_val, y_pred_reg)\n",
    "    accuracies[c] = round(acc, 3)\n",
    "    \n",
    "    if acc > best_acc:\n",
    "        best_acc = acc\n",
    "        best_c = c\n",
    "    \n",
    "    print(f\"C = {c}: accuracy = {accuracies[c]}\")\n",
    "\n",
    "print(f\"\\nThe C value that leads to the best accuracy is: {best_c} (accuracy = {round(best_acc, 3)})\")\n",
    "# Answer: 1 (smallest C among ties)\n"
   ]
  },
  {
   "cell_type": "code",
   "execution_count": null,
   "id": "0f5e84c5-19b7-4815-a9a7-3a74378fb3e6",
   "metadata": {},
   "outputs": [],
   "source": []
  }
 ],
 "metadata": {
  "kernelspec": {
   "display_name": "Python 3 (ipykernel)",
   "language": "python",
   "name": "python3"
  },
  "language_info": {
   "codemirror_mode": {
    "name": "ipython",
    "version": 3
   },
   "file_extension": ".py",
   "mimetype": "text/x-python",
   "name": "python",
   "nbconvert_exporter": "python",
   "pygments_lexer": "ipython3",
   "version": "3.12.1"
  }
 },
 "nbformat": 4,
 "nbformat_minor": 5
}
