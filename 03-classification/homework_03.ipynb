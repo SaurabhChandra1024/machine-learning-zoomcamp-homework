{
 "cells": [
  {
   "cell_type": "code",
   "execution_count": 1,
   "id": "f5024f98",
   "metadata": {},
   "outputs": [],
   "source": [
    "import pandas as pd\n",
    "import numpy as np\n",
    "from sklearn.model_selection import train_test_split\n",
    "from sklearn.feature_extraction import DictVectorizer\n",
    "from sklearn.linear_model import LogisticRegression\n",
    "from sklearn.metrics import accuracy_score\n",
    "from sklearn.preprocessing import StandardScaler\n",
    "from sklearn.feature_selection import mutual_info_classif\n",
    "\n",
    "# Load dataset\n",
    "url = \"https://raw.githubusercontent.com/alexeygrigorev/datasets/master/course_lead_scoring.csv\"\n",
    "df = pd.read_csv(url)\n",
    "\n",
    "# Handle missing values\n",
    "for col in df.columns:\n",
    "    if df[col].dtype == 'object':\n",
    "        df[col] = df[col].fillna('NA')\n",
    "    else:\n",
    "        df[col] = df[col].fillna(0.0)"
   ]
  },
  {
   "cell_type": "code",
   "execution_count": 2,
   "id": "b415c8d1",
   "metadata": {},
   "outputs": [
    {
     "name": "stdout",
     "output_type": "stream",
     "text": [
      "Mode of 'industry': retail\n"
     ]
    }
   ],
   "source": [
    "mode_industry = df['industry'].mode()[0]\n",
    "print(f\"Mode of 'industry': {mode_industry}\")"
   ]
  },
  {
   "cell_type": "code",
   "execution_count": 3,
   "id": "38e2924b",
   "metadata": {},
   "outputs": [
    {
     "name": "stdout",
     "output_type": "stream",
     "text": [
      "Highest correlation pair: ('annual_income', 'interaction_count') with correlation 0.03\n"
     ]
    }
   ],
   "source": [
    "# Calculate correlation matrix for numerical features\n",
    "numerical_features = ['interaction_count', 'lead_score', 'number_of_courses_viewed', 'annual_income']\n",
    "corr_matrix = df[numerical_features].corr()\n",
    "\n",
    "# Check specified pairs\n",
    "pairs = [\n",
    "    ('interaction_count', 'lead_score'),\n",
    "    ('number_of_courses_viewed', 'lead_score'),\n",
    "    ('number_of_courses_viewed', 'interaction_count'),\n",
    "    ('annual_income', 'interaction_count')\n",
    "]\n",
    "\n",
    "max_corr = -1\n",
    "max_pair = None\n",
    "\n",
    "for feat1, feat2 in pairs:\n",
    "    corr = corr_matrix.loc[feat1, feat2]\n",
    "    if abs(corr) > max_corr:\n",
    "        max_corr = abs(corr)\n",
    "        max_pair = (feat1, feat2)\n",
    "\n",
    "print(f\"Highest correlation pair: {max_pair} with correlation {max_corr:.2f}\")"
   ]
  },
  {
   "cell_type": "code",
   "execution_count": 4,
   "id": "3ee00f77",
   "metadata": {},
   "outputs": [],
   "source": [
    "# Split data\n",
    "X = df.drop('converted', axis=1)\n",
    "y = df['converted']\n",
    "\n",
    "X_train, X_temp, y_train, y_temp = train_test_split(X, y, test_size=0.4, random_state=42)\n",
    "X_val, X_test, y_val, y_test = train_test_split(X_temp, y_temp, test_size=0.5, random_state=42)"
   ]
  },
  {
   "cell_type": "code",
   "execution_count": 5,
   "id": "9c3ec882",
   "metadata": {},
   "outputs": [
    {
     "name": "stdout",
     "output_type": "stream",
     "text": [
      "Feature with highest MI: location (MI = 0.03)\n"
     ]
    }
   ],
   "source": [
    "# Identify categorical features\n",
    "categorical_features = ['industry', 'location', 'lead_source', 'employment_status']\n",
    "\n",
    "# Calculate mutual information\n",
    "mi_scores = {}\n",
    "for feature in categorical_features:\n",
    "    # Prepare data\n",
    "    train_df = pd.concat([X_train[feature], y_train], axis=1)\n",
    "    \n",
    "    # One-hot encode\n",
    "    dv = DictVectorizer(sparse=False)\n",
    "    train_dict = train_df[[feature]].to_dict(orient='records')\n",
    "    X_encoded = dv.fit_transform(train_dict)\n",
    "    \n",
    "    # Calculate MI\n",
    "    mi = mutual_info_classif(X_encoded, y_train)[0]\n",
    "    mi_scores[feature] = round(mi, 2)\n",
    "\n",
    "# Find feature with highest MI\n",
    "highest_mi_feature = max(mi_scores, key=mi_scores.get)\n",
    "print(f\"Feature with highest MI: {highest_mi_feature} (MI = {mi_scores[highest_mi_feature]})\")"
   ]
  },
  {
   "cell_type": "code",
   "execution_count": 6,
   "id": "c6f8d6e6",
   "metadata": {},
   "outputs": [
    {
     "name": "stdout",
     "output_type": "stream",
     "text": [
      "Validation accuracy: 0.74\n"
     ]
    }
   ],
   "source": [
    "# Prepare data\n",
    "train_dict = X_train.to_dict(orient='records')\n",
    "val_dict = X_val.to_dict(orient='records')\n",
    "\n",
    "# One-hot encode\n",
    "dv = DictVectorizer(sparse=False)\n",
    "X_train_encoded = dv.fit_transform(train_dict)\n",
    "X_val_encoded = dv.transform(val_dict)\n",
    "\n",
    "# Train model\n",
    "model = LogisticRegression(solver='liblinear', C=1.0, max_iter=1000, random_state=42)\n",
    "model.fit(X_train_encoded, y_train)\n",
    "\n",
    "# Predict and calculate accuracy\n",
    "y_pred = model.predict(X_val_encoded)\n",
    "accuracy = accuracy_score(y_val, y_pred)\n",
    "print(f\"Validation accuracy: {accuracy:.2f}\")"
   ]
  },
  {
   "cell_type": "code",
   "execution_count": 7,
   "id": "3413ecac",
   "metadata": {},
   "outputs": [
    {
     "name": "stdout",
     "output_type": "stream",
     "text": [
      "Least useful feature: industry (diff = 0.0000)\n"
     ]
    }
   ],
   "source": [
    "# Features to test\n",
    "features_to_test = ['industry', 'employment_status', 'lead_score']\n",
    "original_accuracy = accuracy\n",
    "\n",
    "# Calculate accuracy difference for each feature\n",
    "accuracy_diff = {}\n",
    "for feature in features_to_test:\n",
    "    # Create feature set without current feature\n",
    "    X_train_reduced = X_train.drop(feature, axis=1)\n",
    "    X_val_reduced = X_val.drop(feature, axis=1)\n",
    "    \n",
    "    # Prepare data\n",
    "    train_dict = X_train_reduced.to_dict(orient='records')\n",
    "    val_dict = X_val_reduced.to_dict(orient='records')\n",
    "    \n",
    "    # One-hot encode\n",
    "    dv = DictVectorizer(sparse=False)\n",
    "    X_train_encoded = dv.fit_transform(train_dict)\n",
    "    X_val_encoded = dv.transform(val_dict)\n",
    "    \n",
    "    # Train model\n",
    "    model = LogisticRegression(solver='liblinear', C=1.0, max_iter=1000, random_state=42)\n",
    "    model.fit(X_train_encoded, y_train)\n",
    "    \n",
    "    # Calculate accuracy\n",
    "    y_pred = model.predict(X_val_encoded)\n",
    "    acc = accuracy_score(y_val, y_pred)\n",
    "    accuracy_diff[feature] = original_accuracy - acc\n",
    "\n",
    "# Find feature with smallest difference\n",
    "least_useful = min(accuracy_diff, key=lambda x: abs(accuracy_diff[x]))\n",
    "print(f\"Least useful feature: {least_useful} (diff = {accuracy_diff[least_useful]:.4f})\")"
   ]
  },
  {
   "cell_type": "code",
   "execution_count": 8,
   "id": "fe9ab3d6",
   "metadata": {},
   "outputs": [
    {
     "name": "stdout",
     "output_type": "stream",
     "text": [
      "Best C: 1 with accuracy: 0.743\n"
     ]
    }
   ],
   "source": [
    "# Test different C values\n",
    "C_values = [0.01, 0.1, 1, 10, 100]\n",
    "best_accuracy = 0\n",
    "best_C = None\n",
    "\n",
    "for C in C_values:\n",
    "    # Train model\n",
    "    model = LogisticRegression(solver='liblinear', C=C, max_iter=1000, random_state=42)\n",
    "    model.fit(X_train_encoded, y_train)\n",
    "    \n",
    "    # Calculate accuracy\n",
    "    y_pred = model.predict(X_val_encoded)\n",
    "    acc = accuracy_score(y_val, y_pred)\n",
    "    \n",
    "    if acc > best_accuracy:\n",
    "        best_accuracy = acc\n",
    "        best_C = C\n",
    "\n",
    "print(f\"Best C: {best_C} with accuracy: {best_accuracy:.3f}\")"
   ]
  }
 ],
 "metadata": {
  "kernelspec": {
   "display_name": "Python 3",
   "language": "python",
   "name": "python3"
  },
  "language_info": {
   "codemirror_mode": {
    "name": "ipython",
    "version": 3
   },
   "file_extension": ".py",
   "mimetype": "text/x-python",
   "name": "python",
   "nbconvert_exporter": "python",
   "pygments_lexer": "ipython3",
   "version": "3.12.1"
  }
 },
 "nbformat": 4,
 "nbformat_minor": 5
}
