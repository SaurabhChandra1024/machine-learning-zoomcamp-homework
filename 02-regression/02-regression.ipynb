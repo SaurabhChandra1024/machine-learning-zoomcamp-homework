{
 "cells": [
  {
   "cell_type": "code",
   "execution_count": 10,
   "id": "62020e0f",
   "metadata": {},
   "outputs": [],
   "source": [
    "import pandas as pd\n",
    "import numpy as np\n",
    "from sklearn.linear_model import LinearRegression, Ridge\n",
    "from sklearn.metrics import mean_squared_error\n",
    "\n",
    "# Load the CORRECT dataset\n",
    "url = 'https://raw.githubusercontent.com/alexeygrigorev/datasets/master/car_fuel_efficiency.csv'\n",
    "df = pd.read_csv(url)\n",
    "\n",
    "# Prepare the dataset\n",
    "selected_columns = [\n",
    "    'engine_displacement',\n",
    "    'horsepower',\n",
    "    'vehicle_weight',\n",
    "    'model_year',\n",
    "    'fuel_efficiency_mpg'\n",
    "]\n",
    "df = df[selected_columns]\n",
    "\n",
    "# Rename for convenience\n",
    "df = df.rename(columns={'fuel_efficiency_mpg': 'mpg'})"
   ]
  },
  {
   "cell_type": "code",
   "execution_count": 11,
   "id": "d9c3c7c6",
   "metadata": {},
   "outputs": [
    {
     "name": "stdout",
     "output_type": "stream",
     "text": [
      "engine_displacement      0\n",
      "horsepower             708\n",
      "vehicle_weight           0\n",
      "model_year               0\n",
      "mpg                      0\n",
      "dtype: int64\n"
     ]
    }
   ],
   "source": [
    "print(df.isnull().sum())"
   ]
  },
  {
   "cell_type": "code",
   "execution_count": 13,
   "id": "a2c8e9c8",
   "metadata": {},
   "outputs": [
    {
     "name": "stdout",
     "output_type": "stream",
     "text": [
      "149.0\n"
     ]
    }
   ],
   "source": [
    "print(df['horsepower'].median())"
   ]
  },
  {
   "cell_type": "code",
   "execution_count": 14,
   "id": "55a37956",
   "metadata": {},
   "outputs": [
    {
     "name": "stdout",
     "output_type": "stream",
     "text": [
      "RMSE with 0: 0.52\n",
      "RMSE with mean: 0.46\n"
     ]
    }
   ],
   "source": [
    "# Splitting function\n",
    "def split_data(df, seed):\n",
    "    n = len(df)\n",
    "    n_val = int(0.2 * n)\n",
    "    n_test = int(0.2 * n)\n",
    "    n_train = n - n_val - n_test\n",
    "    np.random.seed(seed)\n",
    "    idx = np.arange(n)\n",
    "    np.random.shuffle(idx)\n",
    "    df_shuffled = df.iloc[idx]\n",
    "    df_train = df_shuffled.iloc[:n_train].copy()\n",
    "    df_val = df_shuffled.iloc[n_train:n_train+n_val].copy()\n",
    "    df_test = df_shuffled.iloc[n_train+n_val:].copy()\n",
    "    return df_train, df_val, df_test\n",
    "\n",
    "# Helper functions\n",
    "def prepare_X(df, fill_value):\n",
    "    df = df.copy()\n",
    "    df['horsepower'] = df['horsepower'].fillna(fill_value)\n",
    "    X = df[['engine_displacement', 'horsepower', 'vehicle_weight', 'model_year']].values\n",
    "    return X\n",
    "\n",
    "def rmse(y, y_pred):\n",
    "    return np.sqrt(mean_squared_error(y, y_pred))\n",
    "\n",
    "# Split data with seed 42\n",
    "df_train, df_val, df_test = split_data(df, seed=42)\n",
    "y_train = df_train['mpg'].values\n",
    "y_val = df_val['mpg'].values\n",
    "\n",
    "# Option 1: Fill with 0\n",
    "X_train_0 = prepare_X(df_train, 0)\n",
    "X_val_0 = prepare_X(df_val, 0)\n",
    "model_0 = LinearRegression().fit(X_train_0, y_train)\n",
    "y_pred_0 = model_0.predict(X_val_0)\n",
    "score_0 = rmse(y_val, y_pred_0)\n",
    "\n",
    "# Option 2: Fill with mean\n",
    "horsepower_mean = df_train['horsepower'].mean()\n",
    "X_train_mean = prepare_X(df_train, horsepower_mean)\n",
    "X_val_mean = prepare_X(df_val, horsepower_mean)\n",
    "model_mean = LinearRegression().fit(X_train_mean, y_train)\n",
    "y_pred_mean = model_mean.predict(X_val_mean)\n",
    "score_mean = rmse(y_val, y_pred_mean)\n",
    "\n",
    "print(f\"RMSE with 0: {round(score_0, 2)}\")\n",
    "print(f\"RMSE with mean: {round(score_mean, 2)}\")"
   ]
  },
  {
   "cell_type": "code",
   "execution_count": 15,
   "id": "d979040c",
   "metadata": {},
   "outputs": [
    {
     "name": "stdout",
     "output_type": "stream",
     "text": [
      "r=0, RMSE=0.52\n",
      "r=0.01, RMSE=0.52\n",
      "r=0.1, RMSE=0.52\n",
      "r=1, RMSE=0.52\n",
      "r=5, RMSE=0.52\n",
      "r=10, RMSE=0.52\n",
      "r=100, RMSE=0.52\n",
      "\n",
      "Best r is 0\n"
     ]
    }
   ],
   "source": [
    "X_train = prepare_X(df_train, 0)\n",
    "X_val = prepare_X(df_val, 0)\n",
    "\n",
    "r_values = [0, 0.01, 0.1, 1, 5, 10, 100]\n",
    "best_score = float('inf')\n",
    "best_r = None\n",
    "\n",
    "for r in r_values:\n",
    "    model = Ridge(alpha=r)\n",
    "    model.fit(X_train, y_train)\n",
    "    y_pred = model.predict(X_val)\n",
    "    score = rmse(y_val, y_pred)\n",
    "    print(f\"r={r}, RMSE={round(score, 2)}\")\n",
    "    if score < best_score:\n",
    "        best_score = score\n",
    "        best_r = r\n",
    "\n",
    "print(f\"\\nBest r is {best_r}\")"
   ]
  },
  {
   "cell_type": "code",
   "execution_count": 16,
   "id": "d9794891",
   "metadata": {},
   "outputs": [
    {
     "name": "stdout",
     "output_type": "stream",
     "text": [
      "Standard deviation of scores: 0.007\n"
     ]
    }
   ],
   "source": [
    "seeds = [0, 1, 2, 3, 4, 5, 6, 7, 8, 9]\n",
    "scores = []\n",
    "\n",
    "for seed in seeds:\n",
    "    df_train, df_val, df_test = split_data(df, seed)\n",
    "    y_train = df_train['mpg'].values\n",
    "    y_val = df_val['mpg'].values\n",
    "    \n",
    "    X_train = prepare_X(df_train, 0)\n",
    "    X_val = prepare_X(df_val, 0)\n",
    "    \n",
    "    model = LinearRegression().fit(X_train, y_train)\n",
    "    y_pred = model.predict(X_val)\n",
    "    score = rmse(y_val, y_pred)\n",
    "    scores.append(score)\n",
    "\n",
    "print(f\"Standard deviation of scores: {round(np.std(scores), 3)}\")"
   ]
  },
  {
   "cell_type": "code",
   "execution_count": 17,
   "id": "3249f739",
   "metadata": {},
   "outputs": [
    {
     "name": "stdout",
     "output_type": "stream",
     "text": [
      "RMSE on the test dataset: 0.52\n"
     ]
    }
   ],
   "source": [
    "# Split with seed 9\n",
    "df_train, df_val, df_test = split_data(df, seed=9)\n",
    "\n",
    "# Combine train and validation\n",
    "df_full_train = pd.concat([df_train, df_val])\n",
    "X_full_train = prepare_X(df_full_train, 0)\n",
    "y_full_train = df_full_train['mpg'].values\n",
    "\n",
    "# Prepare test set\n",
    "X_test = prepare_X(df_test, 0)\n",
    "y_test = df_test['mpg'].values\n",
    "\n",
    "# Train model with r=0.001\n",
    "model = Ridge(alpha=0.001)\n",
    "model.fit(X_full_train, y_full_train)\n",
    "\n",
    "# Evaluate on test set\n",
    "y_pred = model.predict(X_test)\n",
    "test_rmse = rmse(y_test, y_pred)\n",
    "\n",
    "print(f\"RMSE on the test dataset: {round(test_rmse, 2)}\")"
   ]
  },
  {
   "cell_type": "code",
   "execution_count": null,
   "id": "96f6ac5f",
   "metadata": {},
   "outputs": [],
   "source": []
  }
 ],
 "metadata": {
  "kernelspec": {
   "display_name": "Python 3",
   "language": "python",
   "name": "python3"
  },
  "language_info": {
   "codemirror_mode": {
    "name": "ipython",
    "version": 3
   },
   "file_extension": ".py",
   "mimetype": "text/x-python",
   "name": "python",
   "nbconvert_exporter": "python",
   "pygments_lexer": "ipython3",
   "version": "3.12.1"
  }
 },
 "nbformat": 4,
 "nbformat_minor": 5
}
